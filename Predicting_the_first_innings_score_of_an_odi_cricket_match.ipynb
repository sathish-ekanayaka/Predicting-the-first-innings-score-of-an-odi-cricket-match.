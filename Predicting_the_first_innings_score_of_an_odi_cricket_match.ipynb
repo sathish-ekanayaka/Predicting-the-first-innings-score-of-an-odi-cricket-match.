{
  "nbformat": 4,
  "nbformat_minor": 0,
  "metadata": {
    "colab": {
      "name": "Predicting the first innings score of an odi cricket match.ipynb",
      "provenance": [],
      "mount_file_id": "1-uXig1JJTYUc-coSnaQxhBzwKOCVlMbH",
      "authorship_tag": "ABX9TyNMpWLW13gF8bdqoysS8gDM"
    },
    "kernelspec": {
      "name": "python3",
      "display_name": "Python 3"
    }
  },
  "cells": [
    {
      "cell_type": "code",
      "metadata": {
        "id": "syeUNNfh_Ixc",
        "colab": {
          "base_uri": "https://localhost:8080/"
        },
        "outputId": "728b8929-d848-4dc6-cf0e-99043b776b98"
      },
      "source": [
        "from google.colab import drive\n",
        "drive.mount(\"/content/drive/\")\n",
        "\n",
        "import pandas as pd \n",
        "import matplotlib.pyplot as plt\n",
        "import numpy as np\n",
        "import seaborn as sb\n",
        "from google.colab import files\n",
        "import os \n",
        "import glob\n",
        "\n"
      ],
      "execution_count": 1,
      "outputs": [
        {
          "output_type": "stream",
          "text": [
            "Mounted at /content/drive/\n"
          ],
          "name": "stdout"
        }
      ]
    },
    {
      "cell_type": "code",
      "metadata": {
        "id": "23BoP1bx_aK7"
      },
      "source": [
        "os.chdir(r'/content/drive/My Drive/Colab Notebooks/MLproject/cricketdata') #changes folder path to working directory\n",
        "\n",
        "filelist=glob.glob('*.csv') #creates a list of all csv files in the folder."
      ],
      "execution_count": 2,
      "outputs": []
    },
    {
      "cell_type": "code",
      "metadata": {
        "id": "FZ81JtkQACOs"
      },
      "source": [
        "matches=[]\n",
        "detail=[]\n",
        "teamsandcity=[]\n",
        "odiallmatches=[]\n",
        "firstbatscore=[]\n",
        "dframeprev = pd.DataFrame()\n",
        "\n",
        "for file in filelist: # Looping through the csv files in the folder.\n",
        "  \n",
        "  try:\n",
        "    df=pd.read_csv(file, skiprows=20, header=None) #Creating a dataframe for each csv file.\n",
        "    match=df.to_numpy()  #Converting each dataframe into a numpy array\n",
        "    matches.append(match) #Updating a list of numpy arrays.\n",
        "  except:\n",
        "    pass\n",
        "\n",
        "#Extracting necessary features from each csv file.(Number of overs,Number of wickets,Runs at the instance,Batsman1score,Batsman2score,Current pathnership.) \n",
        "for i,file in zip(matches,filelist):\n",
        "  batfirst=i[np.where(i[:,1]==1)]  \n",
        "  batsecond=i[np.where(i[:,1]==2)]\n",
        "\n",
        "  numberofovers=batfirst[:,2]\n",
        "  runs=batfirst[:,7]+batfirst[:,8]\n",
        "  runsataninstance=np.cumsum(batfirst[:,7]+batfirst[:,8])\n",
        "\n",
        "\n",
        "  batter1=batfirst[:,4]\n",
        "  batter2=batfirst[:,5]\n",
        "  batter1runs=batfirst[:,7]\n",
        "  batter2runs=batfirst[:,8]\n",
        "  batter1score=[]\n",
        "  batter2score=[]\n",
        "  m=0\n",
        "  u=0\n",
        "  temp=0\n",
        "  for p,q,r,s in zip(range(0,len(batter1)),range(0,len(batter2)),batter1runs,batter2runs):\n",
        "    m+=r\n",
        "    u+=s\n",
        "    batter1score.append(m)\n",
        "    batter2score.append(u)\n",
        "    temp=0\n",
        "    if batter1[p]==batter1[p-1] and batter2[q]==batter2[q-1]:\n",
        "      continue\n",
        "    elif batter1[p]==batter2[q-1] and batter2[q]==batter1[p-1]:\n",
        "      temp=m\n",
        "      m=u\n",
        "      u=temp\n",
        "      \n",
        "     \n",
        "    elif batter1[p]!=batter1[p-1] and batter2[q]==batter2[q-1]: \n",
        "      m=0\n",
        "      \n",
        "    elif batter1[p]==batter1[p-1] and batter2[q]!=batter2[q-1]:\n",
        "      u=0\n",
        "      \n",
        "    elif batter1[p]==batter2[q-1] and batter2[q]!=batter1[p-1]:\n",
        "      m=u\n",
        "      u=0\n",
        "      \n",
        "    else:\n",
        "      u=m\n",
        "      m=0\n",
        "  \n",
        "  \n",
        "  finalscore=[]\n",
        "  for j in batfirst:\n",
        "    finalscore.append(runsataninstance[-1])\n",
        "\n",
        "  wickets=[]\n",
        "  j=0\n",
        "  for i in batfirst[:,9]:\n",
        "    if i == 'bowled':\n",
        "      j=1\n",
        "    elif i=='caught':\n",
        "      j=1\n",
        "    elif i=='run out':\n",
        "      j=1\n",
        "    elif i=='stumped':\n",
        "      j=1\n",
        "    elif i=='lbw':\n",
        "      j=1\n",
        "    else:\n",
        "      j=0\n",
        "    wickets.append(j)\n",
        "\n",
        "    fallofwickets=np.cumsum(wickets)\n",
        "\n",
        "  if fallofwickets[-1]<10 and numberofovers[-1]<49.6:\n",
        "    continue\n",
        "\n",
        "\n",
        "  pathnerships=[]\n",
        "  pathner=0\n",
        "\n",
        "  for (p,r) in zip(range(0,len(fallofwickets)),runs):\n",
        "    if fallofwickets[p]==fallofwickets[p-1]:\n",
        "      pathner=pathner+r\n",
        "      pathnerships.append(pathner)\n",
        "    else:\n",
        "      pathner=0\n",
        "      pathnerships.append(pathner)\n",
        "\n",
        "\n",
        " \n",
        "  detail=pd.read_csv(file,header=None,sep='\\n') \n",
        "  details=detail[0:10]\n",
        "  details.loc[[1,2,8]]\n",
        "  details=details.to_numpy()\n",
        "  data=details[[1,2,8]]\n",
        "  matchinfo=[]\n",
        "  for d in data:\n",
        "    for h in d:\n",
        "      matchinfo.append(h)\n",
        "  teamsandcity=[]\n",
        "  for j in matchinfo:\n",
        "    neededdetails = j.split(\",\")\n",
        "    teamsandcity.append(neededdetails)\n",
        "  batteam=teamsandcity[0][2]\n",
        "  bowlteam=teamsandcity[1][2]\n",
        "  venue=teamsandcity[2][2]\n",
        "\n",
        "  battingteam = []\n",
        "  bowlingteam = []\n",
        "  city = []\n",
        "  for k in batfirst:\n",
        "    battingteam.append(batteam)\n",
        "    bowlingteam.append(bowlteam)\n",
        "    city.append(venue)\n",
        "  battingteam=np.array(battingteam)\n",
        "  bowlingteam=np.array(bowlingteam)\n",
        "  city=np.array(city)\n",
        "\n",
        "  finalscore=np.array(finalscore)\n",
        "  pathnerships=np.array(pathnerships)\n",
        "  runsataninstance=np.array(runsataninstance)\n",
        "  fallofwickets=np.array(fallofwickets)\n",
        "  numberofovers=np.array(numberofovers)\n",
        "  batter1score=np.array(batter1score)\n",
        "  batter2score=np.array(batter2score)\n",
        "\n",
        "  odimatchdata=[numberofovers,fallofwickets,runsataninstance,batter1score,batter2score,pathnerships,battingteam,bowlingteam,city,finalscore]\n",
        "  dframe=pd.DataFrame(odimatchdata)\n",
        "  d=dframe.T\n",
        "  d=d.iloc[124:,:]\n",
        "  dframeprev=dframeprev.append(d)#Combining all the dataframes into a one dataframe for apply machine learning algorithms.\n",
        "  \n",
        "\n",
        "  "
      ],
      "execution_count": 3,
      "outputs": []
    },
    {
      "cell_type": "code",
      "metadata": {
        "id": "t6XWDLv5_ldw"
      },
      "source": [
        "dframeprev = dframeprev.set_axis(['Overs', 'Wickets', 'Runsatinstance', 'Batsman1score', 'Batsman2score','Currentpathnership','Battingteam','Bowlingteam','Venue','Finalscore'], axis=1, inplace=False)"
      ],
      "execution_count": 4,
      "outputs": []
    },
    {
      "cell_type": "code",
      "metadata": {
        "id": "3kxMqo-vwQYL",
        "colab": {
          "base_uri": "https://localhost:8080/",
          "height": 419
        },
        "outputId": "8e09637f-cd37-4b31-ad7b-b28c50984d88"
      },
      "source": [
        "dframeprev"
      ],
      "execution_count": 5,
      "outputs": [
        {
          "output_type": "execute_result",
          "data": {
            "text/html": [
              "<div>\n",
              "<style scoped>\n",
              "    .dataframe tbody tr th:only-of-type {\n",
              "        vertical-align: middle;\n",
              "    }\n",
              "\n",
              "    .dataframe tbody tr th {\n",
              "        vertical-align: top;\n",
              "    }\n",
              "\n",
              "    .dataframe thead th {\n",
              "        text-align: right;\n",
              "    }\n",
              "</style>\n",
              "<table border=\"1\" class=\"dataframe\">\n",
              "  <thead>\n",
              "    <tr style=\"text-align: right;\">\n",
              "      <th></th>\n",
              "      <th>Overs</th>\n",
              "      <th>Wickets</th>\n",
              "      <th>Runsatinstance</th>\n",
              "      <th>Batsman1score</th>\n",
              "      <th>Batsman2score</th>\n",
              "      <th>Currentpathnership</th>\n",
              "      <th>Battingteam</th>\n",
              "      <th>Bowlingteam</th>\n",
              "      <th>Venue</th>\n",
              "      <th>Finalscore</th>\n",
              "    </tr>\n",
              "  </thead>\n",
              "  <tbody>\n",
              "    <tr>\n",
              "      <th>124</th>\n",
              "      <td>20.3</td>\n",
              "      <td>1</td>\n",
              "      <td>121</td>\n",
              "      <td>52</td>\n",
              "      <td>24</td>\n",
              "      <td>40</td>\n",
              "      <td>India</td>\n",
              "      <td>Australia</td>\n",
              "      <td>Saurashtra Cricket Association Stadium</td>\n",
              "      <td>340</td>\n",
              "    </tr>\n",
              "    <tr>\n",
              "      <th>125</th>\n",
              "      <td>20.4</td>\n",
              "      <td>1</td>\n",
              "      <td>121</td>\n",
              "      <td>52</td>\n",
              "      <td>24</td>\n",
              "      <td>40</td>\n",
              "      <td>India</td>\n",
              "      <td>Australia</td>\n",
              "      <td>Saurashtra Cricket Association Stadium</td>\n",
              "      <td>340</td>\n",
              "    </tr>\n",
              "    <tr>\n",
              "      <th>126</th>\n",
              "      <td>20.5</td>\n",
              "      <td>1</td>\n",
              "      <td>122</td>\n",
              "      <td>53</td>\n",
              "      <td>24</td>\n",
              "      <td>41</td>\n",
              "      <td>India</td>\n",
              "      <td>Australia</td>\n",
              "      <td>Saurashtra Cricket Association Stadium</td>\n",
              "      <td>340</td>\n",
              "    </tr>\n",
              "    <tr>\n",
              "      <th>127</th>\n",
              "      <td>20.6</td>\n",
              "      <td>1</td>\n",
              "      <td>123</td>\n",
              "      <td>54</td>\n",
              "      <td>24</td>\n",
              "      <td>42</td>\n",
              "      <td>India</td>\n",
              "      <td>Australia</td>\n",
              "      <td>Saurashtra Cricket Association Stadium</td>\n",
              "      <td>340</td>\n",
              "    </tr>\n",
              "    <tr>\n",
              "      <th>128</th>\n",
              "      <td>21.1</td>\n",
              "      <td>1</td>\n",
              "      <td>124</td>\n",
              "      <td>25</td>\n",
              "      <td>54</td>\n",
              "      <td>43</td>\n",
              "      <td>India</td>\n",
              "      <td>Australia</td>\n",
              "      <td>Saurashtra Cricket Association Stadium</td>\n",
              "      <td>340</td>\n",
              "    </tr>\n",
              "    <tr>\n",
              "      <th>...</th>\n",
              "      <td>...</td>\n",
              "      <td>...</td>\n",
              "      <td>...</td>\n",
              "      <td>...</td>\n",
              "      <td>...</td>\n",
              "      <td>...</td>\n",
              "      <td>...</td>\n",
              "      <td>...</td>\n",
              "      <td>...</td>\n",
              "      <td>...</td>\n",
              "    </tr>\n",
              "    <tr>\n",
              "      <th>305</th>\n",
              "      <td>49.2</td>\n",
              "      <td>5</td>\n",
              "      <td>256</td>\n",
              "      <td>26</td>\n",
              "      <td>12</td>\n",
              "      <td>24</td>\n",
              "      <td>South Africa</td>\n",
              "      <td>Sri Lanka</td>\n",
              "      <td>Adelaide Oval</td>\n",
              "      <td>262</td>\n",
              "    </tr>\n",
              "    <tr>\n",
              "      <th>306</th>\n",
              "      <td>49.3</td>\n",
              "      <td>6</td>\n",
              "      <td>256</td>\n",
              "      <td>12</td>\n",
              "      <td>26</td>\n",
              "      <td>0</td>\n",
              "      <td>South Africa</td>\n",
              "      <td>Sri Lanka</td>\n",
              "      <td>Adelaide Oval</td>\n",
              "      <td>262</td>\n",
              "    </tr>\n",
              "    <tr>\n",
              "      <th>307</th>\n",
              "      <td>49.4</td>\n",
              "      <td>6</td>\n",
              "      <td>257</td>\n",
              "      <td>13</td>\n",
              "      <td>26</td>\n",
              "      <td>1</td>\n",
              "      <td>South Africa</td>\n",
              "      <td>Sri Lanka</td>\n",
              "      <td>Adelaide Oval</td>\n",
              "      <td>262</td>\n",
              "    </tr>\n",
              "    <tr>\n",
              "      <th>308</th>\n",
              "      <td>49.5</td>\n",
              "      <td>6</td>\n",
              "      <td>261</td>\n",
              "      <td>30</td>\n",
              "      <td>0</td>\n",
              "      <td>5</td>\n",
              "      <td>South Africa</td>\n",
              "      <td>Sri Lanka</td>\n",
              "      <td>Adelaide Oval</td>\n",
              "      <td>262</td>\n",
              "    </tr>\n",
              "    <tr>\n",
              "      <th>309</th>\n",
              "      <td>49.6</td>\n",
              "      <td>6</td>\n",
              "      <td>262</td>\n",
              "      <td>1</td>\n",
              "      <td>30</td>\n",
              "      <td>6</td>\n",
              "      <td>South Africa</td>\n",
              "      <td>Sri Lanka</td>\n",
              "      <td>Adelaide Oval</td>\n",
              "      <td>262</td>\n",
              "    </tr>\n",
              "  </tbody>\n",
              "</table>\n",
              "<p>199123 rows × 10 columns</p>\n",
              "</div>"
            ],
            "text/plain": [
              "    Overs Wickets  ...                                   Venue Finalscore\n",
              "124  20.3       1  ...  Saurashtra Cricket Association Stadium        340\n",
              "125  20.4       1  ...  Saurashtra Cricket Association Stadium        340\n",
              "126  20.5       1  ...  Saurashtra Cricket Association Stadium        340\n",
              "127  20.6       1  ...  Saurashtra Cricket Association Stadium        340\n",
              "128  21.1       1  ...  Saurashtra Cricket Association Stadium        340\n",
              "..    ...     ...  ...                                     ...        ...\n",
              "305  49.2       5  ...                           Adelaide Oval        262\n",
              "306  49.3       6  ...                           Adelaide Oval        262\n",
              "307  49.4       6  ...                           Adelaide Oval        262\n",
              "308  49.5       6  ...                           Adelaide Oval        262\n",
              "309  49.6       6  ...                           Adelaide Oval        262\n",
              "\n",
              "[199123 rows x 10 columns]"
            ]
          },
          "metadata": {
            "tags": []
          },
          "execution_count": 5
        }
      ]
    },
    {
      "cell_type": "code",
      "metadata": {
        "id": "gxEHpH5Q2s_A",
        "colab": {
          "base_uri": "https://localhost:8080/"
        },
        "outputId": "c078b21e-e689-40b5-b647-ffb44dc553f3"
      },
      "source": [
        "for column in dframeprev.columns:\n",
        "  print(column,\" :\" ,len(dframeprev[column].unique()))"
      ],
      "execution_count": 18,
      "outputs": [
        {
          "output_type": "stream",
          "text": [
            "Overs  : 278\n",
            "Wickets  : 11\n",
            "Runsatinstance  : 430\n",
            "Batsman1score  : 230\n",
            "Batsman2score  : 209\n",
            "Currentpathnership  : 328\n",
            "Battingteam  : 25\n",
            "Bowlingteam  : 25\n",
            "Venue  : 188\n",
            "Finalscore  : 281\n"
          ],
          "name": "stdout"
        }
      ]
    },
    {
      "cell_type": "code",
      "metadata": {
        "id": "AfTX8MwxSMV8"
      },
      "source": [
        "x = dframeprev.iloc[:,[0,1,2,3,4,5]].values #Selecting the features,Number of overs,Number of wickets,Runs at the instance,Batsman1score,Batsman2score,Current pathnership respectively\n",
        "y = dframeprev.iloc[:,9].values #This is the value we are going to predict.\n",
        "\n",
        "from sklearn.model_selection import train_test_split #Importing the function for slice the dataset into training and testing data sets.\n",
        "x_train,x_test,y_train,y_test = train_test_split(x,y,test_size=0.25,random_state=0) #Selecting 25% data rows randomly as test data."
      ],
      "execution_count": 10,
      "outputs": []
    },
    {
      "cell_type": "code",
      "metadata": {
        "id": "2TpOMO-5jlR7"
      },
      "source": [
        "#Feature scaling the data as a preprocessing step.\n",
        "from sklearn.preprocessing import StandardScaler\n",
        "sc = StandardScaler()\n",
        "x_train = sc.fit_transform(x_train)\n",
        "x_test = sc.transform(x_test)\n"
      ],
      "execution_count": 11,
      "outputs": []
    },
    {
      "cell_type": "code",
      "metadata": {
        "id": "njhhhfqFGfoG",
        "colab": {
          "base_uri": "https://localhost:8080/"
        },
        "outputId": "fa14f3da-3690-4608-dcee-7530e03fe176"
      },
      "source": [
        "from sklearn.ensemble import RandomForestRegressor\n",
        "model = RandomForestRegressor(n_estimators=100,max_features=None,random_state=5)\n",
        "model.fit(x_train,y_train)"
      ],
      "execution_count": 15,
      "outputs": [
        {
          "output_type": "execute_result",
          "data": {
            "text/plain": [
              "RandomForestRegressor(bootstrap=True, ccp_alpha=0.0, criterion='mse',\n",
              "                      max_depth=None, max_features=None, max_leaf_nodes=None,\n",
              "                      max_samples=None, min_impurity_decrease=0.0,\n",
              "                      min_impurity_split=None, min_samples_leaf=1,\n",
              "                      min_samples_split=2, min_weight_fraction_leaf=0.0,\n",
              "                      n_estimators=100, n_jobs=None, oob_score=False,\n",
              "                      random_state=5, verbose=0, warm_start=False)"
            ]
          },
          "metadata": {
            "tags": []
          },
          "execution_count": 15
        }
      ]
    },
    {
      "cell_type": "code",
      "metadata": {
        "id": "qlr-bBQ9ln9e"
      },
      "source": [
        "#We only changed the number of decision trees as the hyperparameter. So, below list shows the number of trees we used at each iteration\n",
        "iterations=[5,10,20,50,100,200,500,1000]\n",
        "\n",
        "\n"
      ],
      "execution_count": 16,
      "outputs": []
    },
    {
      "cell_type": "code",
      "metadata": {
        "id": "G6CYdTqbntj8"
      },
      "source": [
        "#To eveluate our model we have defined this custom function. By using this we can find the percentage of times we have predicted the score closer than 15 runns.\n",
        "def success_rate(y_test,y_pred,thresold):\n",
        "    right = 0\n",
        "    l = len(y_pred)\n",
        "    for i in range(0,l):\n",
        "        if(abs(y_pred[i]-y_test[i]) <= thresold):\n",
        "            right += 1\n",
        "    return ((right/l)*100)\n",
        "\n",
        "\n",
        "\n",
        "#To find how the success rate and covarience change with respected to the number of decision trees in the forest.\n",
        "from sklearn.ensemble import RandomForestRegressor\n",
        "r_scores=[]\n",
        "successes=[]\n",
        "for r in iterations:\n",
        "  model = RandomForestRegressor(n_estimators=r,max_features=None,random_state=5)\n",
        "  model.fit(x_train,y_train)\n",
        "  y_pred = model.predict(x_test)\n",
        "  score = model.score(x_test,y_test)*100\n",
        "  success=success_rate(y_test,y_pred,15)\n",
        "  r_scores.append(score)\n",
        "  successes.append(success)"
      ],
      "execution_count": 17,
      "outputs": []
    },
    {
      "cell_type": "code",
      "metadata": {
        "id": "6R9AvgHzpDy5",
        "colab": {
          "base_uri": "https://localhost:8080/"
        },
        "outputId": "ac30c7aa-7231-454f-89c8-90d9ec3e1cd5"
      },
      "source": [
        "#From this process we hope to predict the final score of the 1st innigs of a cricket match by feeding some data of a particular instance of that paticular match\n",
        "#The dofferece between real and predicted score is expected to be less than 15 runs. So by using test data we have written a function to calculate our sucees rate.\n",
        "#And it is given by custom accuracy.\n",
        "def success_rate(y_test,y_pred,thresold):\n",
        "    right = 0\n",
        "    l = len(y_pred)\n",
        "    for i in range(0,l):\n",
        "        if(abs(y_pred[i]-y_test[i]) <= thresold):\n",
        "            right += 1\n",
        "    return ((right/l)*100)\n",
        "\n",
        "y_pred = model.predict(x_test)\n",
        "score = model.score(x_test,y_test)*100\n",
        "print(\"R-squared value:\" , score)\n",
        "print(\"Success rate:\" , success_rate(y_test,y_pred,15))"
      ],
      "execution_count": 19,
      "outputs": [
        {
          "output_type": "stream",
          "text": [
            "R-squared value: 93.21484152839379\n",
            "Success rate: 79.57654526827504\n"
          ],
          "name": "stdout"
        }
      ]
    },
    {
      "cell_type": "code",
      "metadata": {
        "id": "wiq7V1e1r8UF",
        "colab": {
          "base_uri": "https://localhost:8080/"
        },
        "outputId": "ea061c62-07d8-4d8d-8ec4-187ad4d000ad"
      },
      "source": [
        "import numpy as np\n",
        "#Here you can give the number of overs,wickets,current score,runs scored by the striker,runs scored by the non striker and current patnership respectively to predict tthe final score.\n",
        "new_prediction = model.predict(sc.transform(np.array([[20,2,130,40,40,60]])))\n",
        "print(\"Prediction score:\" , new_prediction)"
      ],
      "execution_count": 20,
      "outputs": [
        {
          "output_type": "stream",
          "text": [
            "Prediction score: [338.475]\n"
          ],
          "name": "stdout"
        }
      ]
    },
    {
      "cell_type": "code",
      "metadata": {
        "id": "4Pc5OK2HWqsc"
      },
      "source": [
        "#Selecting a 100 random moments from matches and predict their final score. Then we plotted the predicted score vs actual scores corresponding to those moments.\n",
        "import random\n",
        "randommatches = []\n",
        "for i in range(0,100):\n",
        "  n = random.randint(0,len(y_test))\n",
        "  randommatches.append(n)\n",
        "\n",
        "\n",
        "realscores=[]\n",
        "predscores=[]\n",
        "for j in range(0,len(randommatches)):\n",
        "  realscores.append(y_test[randommatches[j]])\n",
        "  predscores.append(y_pred[randommatches[j]])\n",
        "\n",
        "\n"
      ],
      "execution_count": 21,
      "outputs": []
    },
    {
      "cell_type": "code",
      "metadata": {
        "id": "mCqhXyhfQPYe",
        "colab": {
          "base_uri": "https://localhost:8080/",
          "height": 295
        },
        "outputId": "41cb4edb-4c3f-4df0-f00c-6240bf30c67f"
      },
      "source": [
        "import matplotlib.pyplot as plt\n",
        "\n",
        "x = np.linspace(0, 100, 100)\n",
        "y1 = realscores\n",
        "y2 = predscores\n",
        "\n",
        "image=plt.figure()\n",
        "plt.plot(x, y1, \"-r\", label=\"Actual score\")\n",
        "plt.plot(x, y2, \"-b\", label=\"Predicted score\")\n",
        "plt.legend(loc=\"lower right\")\n",
        "plt.title(\"Actual values vs predicted values of test data\")\n",
        "plt.xlabel(\"Instance number\")\n",
        "plt.ylabel(\"Final score\")\n",
        "plt.ylim(0,450)\n",
        "plt.show()\n",
        "image.savefig('image.png', dpi=1000)\n",
        "\n",
        "\n"
      ],
      "execution_count": 22,
      "outputs": [
        {
          "output_type": "display_data",
          "data": {
            "image/png": "[encoded data removed]",
            "text/plain": [
              "<Figure size 432x288 with 1 Axes>"
            ]
          },
          "metadata": {
            "tags": [],
            "needs_background": "light"
          }
        }
      ]
    },
    {
      "cell_type": "code",
      "metadata": {
        "id": "TZ7YUvcUlk-a",
        "colab": {
          "base_uri": "https://localhost:8080/"
        },
        "outputId": "c293cad1-1a00-4c19-c672-5ea864b67679"
      },
      "source": [
        "successes"
      ],
      "execution_count": 23,
      "outputs": [
        {
          "output_type": "execute_result",
          "data": {
            "text/plain": [
              "[75.09089813382616,\n",
              " 77.20013659830056,\n",
              " 78.21859745686105,\n",
              " 79.13059199292903,\n",
              " 79.45400855748177,\n",
              " 79.39575339989152,\n",
              " 79.51226371507202,\n",
              " 79.57654526827504]"
            ]
          },
          "metadata": {
            "tags": []
          },
          "execution_count": 23
        }
      ]
    },
    {
      "cell_type": "code",
      "metadata": {
        "id": "G4ZSOqCtYGbg"
      },
      "source": [
        "dframeprev = dframeprev.drop(dframeprev.columns[[6, 7, 8]], axis=1)  #"
      ],
      "execution_count": 24,
      "outputs": []
    },
    {
      "cell_type": "code",
      "metadata": {
        "id": "cIfdS6ww2Hmq",
        "colab": {
          "base_uri": "https://localhost:8080/",
          "height": 419
        },
        "outputId": "c1bfa488-1e8c-409a-b737-5ee20891413d"
      },
      "source": [
        "dframeprev"
      ],
      "execution_count": 25,
      "outputs": [
        {
          "output_type": "execute_result",
          "data": {
            "text/html": [
              "<div>\n",
              "<style scoped>\n",
              "    .dataframe tbody tr th:only-of-type {\n",
              "        vertical-align: middle;\n",
              "    }\n",
              "\n",
              "    .dataframe tbody tr th {\n",
              "        vertical-align: top;\n",
              "    }\n",
              "\n",
              "    .dataframe thead th {\n",
              "        text-align: right;\n",
              "    }\n",
              "</style>\n",
              "<table border=\"1\" class=\"dataframe\">\n",
              "  <thead>\n",
              "    <tr style=\"text-align: right;\">\n",
              "      <th></th>\n",
              "      <th>Overs</th>\n",
              "      <th>Wickets</th>\n",
              "      <th>Runsatinstance</th>\n",
              "      <th>Batsman1score</th>\n",
              "      <th>Batsman2score</th>\n",
              "      <th>Currentpathnership</th>\n",
              "      <th>Finalscore</th>\n",
              "    </tr>\n",
              "  </thead>\n",
              "  <tbody>\n",
              "    <tr>\n",
              "      <th>124</th>\n",
              "      <td>20.3</td>\n",
              "      <td>1</td>\n",
              "      <td>121</td>\n",
              "      <td>52</td>\n",
              "      <td>24</td>\n",
              "      <td>40</td>\n",
              "      <td>340</td>\n",
              "    </tr>\n",
              "    <tr>\n",
              "      <th>125</th>\n",
              "      <td>20.4</td>\n",
              "      <td>1</td>\n",
              "      <td>121</td>\n",
              "      <td>52</td>\n",
              "      <td>24</td>\n",
              "      <td>40</td>\n",
              "      <td>340</td>\n",
              "    </tr>\n",
              "    <tr>\n",
              "      <th>126</th>\n",
              "      <td>20.5</td>\n",
              "      <td>1</td>\n",
              "      <td>122</td>\n",
              "      <td>53</td>\n",
              "      <td>24</td>\n",
              "      <td>41</td>\n",
              "      <td>340</td>\n",
              "    </tr>\n",
              "    <tr>\n",
              "      <th>127</th>\n",
              "      <td>20.6</td>\n",
              "      <td>1</td>\n",
              "      <td>123</td>\n",
              "      <td>54</td>\n",
              "      <td>24</td>\n",
              "      <td>42</td>\n",
              "      <td>340</td>\n",
              "    </tr>\n",
              "    <tr>\n",
              "      <th>128</th>\n",
              "      <td>21.1</td>\n",
              "      <td>1</td>\n",
              "      <td>124</td>\n",
              "      <td>25</td>\n",
              "      <td>54</td>\n",
              "      <td>43</td>\n",
              "      <td>340</td>\n",
              "    </tr>\n",
              "    <tr>\n",
              "      <th>...</th>\n",
              "      <td>...</td>\n",
              "      <td>...</td>\n",
              "      <td>...</td>\n",
              "      <td>...</td>\n",
              "      <td>...</td>\n",
              "      <td>...</td>\n",
              "      <td>...</td>\n",
              "    </tr>\n",
              "    <tr>\n",
              "      <th>305</th>\n",
              "      <td>49.2</td>\n",
              "      <td>5</td>\n",
              "      <td>256</td>\n",
              "      <td>26</td>\n",
              "      <td>12</td>\n",
              "      <td>24</td>\n",
              "      <td>262</td>\n",
              "    </tr>\n",
              "    <tr>\n",
              "      <th>306</th>\n",
              "      <td>49.3</td>\n",
              "      <td>6</td>\n",
              "      <td>256</td>\n",
              "      <td>12</td>\n",
              "      <td>26</td>\n",
              "      <td>0</td>\n",
              "      <td>262</td>\n",
              "    </tr>\n",
              "    <tr>\n",
              "      <th>307</th>\n",
              "      <td>49.4</td>\n",
              "      <td>6</td>\n",
              "      <td>257</td>\n",
              "      <td>13</td>\n",
              "      <td>26</td>\n",
              "      <td>1</td>\n",
              "      <td>262</td>\n",
              "    </tr>\n",
              "    <tr>\n",
              "      <th>308</th>\n",
              "      <td>49.5</td>\n",
              "      <td>6</td>\n",
              "      <td>261</td>\n",
              "      <td>30</td>\n",
              "      <td>0</td>\n",
              "      <td>5</td>\n",
              "      <td>262</td>\n",
              "    </tr>\n",
              "    <tr>\n",
              "      <th>309</th>\n",
              "      <td>49.6</td>\n",
              "      <td>6</td>\n",
              "      <td>262</td>\n",
              "      <td>1</td>\n",
              "      <td>30</td>\n",
              "      <td>6</td>\n",
              "      <td>262</td>\n",
              "    </tr>\n",
              "  </tbody>\n",
              "</table>\n",
              "<p>199123 rows × 7 columns</p>\n",
              "</div>"
            ],
            "text/plain": [
              "    Overs Wickets Runsatinstance  ... Batsman2score Currentpathnership Finalscore\n",
              "124  20.3       1            121  ...            24                 40        340\n",
              "125  20.4       1            121  ...            24                 40        340\n",
              "126  20.5       1            122  ...            24                 41        340\n",
              "127  20.6       1            123  ...            24                 42        340\n",
              "128  21.1       1            124  ...            54                 43        340\n",
              "..    ...     ...            ...  ...           ...                ...        ...\n",
              "305  49.2       5            256  ...            12                 24        262\n",
              "306  49.3       6            256  ...            26                  0        262\n",
              "307  49.4       6            257  ...            26                  1        262\n",
              "308  49.5       6            261  ...             0                  5        262\n",
              "309  49.6       6            262  ...            30                  6        262\n",
              "\n",
              "[199123 rows x 7 columns]"
            ]
          },
          "metadata": {
            "tags": []
          },
          "execution_count": 25
        }
      ]
    },
    {
      "cell_type": "code",
      "metadata": {
        "id": "BRAD5jZ12r1u",
        "colab": {
          "base_uri": "https://localhost:8080/"
        },
        "outputId": "dd89105f-f229-4685-dca7-3f33af6eaeab"
      },
      "source": [
        "r_scores"
      ],
      "execution_count": 26,
      "outputs": [
        {
          "output_type": "execute_result",
          "data": {
            "text/plain": [
              "[90.49361057101663,\n",
              " 91.89089741694167,\n",
              " 92.60778011471099,\n",
              " 92.99241845230117,\n",
              " 93.12618977278422,\n",
              " 93.18389740048522,\n",
              " 93.20666213782386,\n",
              " 93.21484152839379]"
            ]
          },
          "metadata": {
            "tags": []
          },
          "execution_count": 26
        }
      ]
    },
    {
      "cell_type": "code",
      "metadata": {
        "id": "NKCPzcL3DMH2",
        "colab": {
          "base_uri": "https://localhost:8080/"
        },
        "outputId": "f79dc3e9-9cdd-4d39-a88c-3c557ff8d0a7"
      },
      "source": [
        "successes"
      ],
      "execution_count": 27,
      "outputs": [
        {
          "output_type": "execute_result",
          "data": {
            "text/plain": [
              "[75.09089813382616,\n",
              " 77.20013659830056,\n",
              " 78.21859745686105,\n",
              " 79.13059199292903,\n",
              " 79.45400855748177,\n",
              " 79.39575339989152,\n",
              " 79.51226371507202,\n",
              " 79.57654526827504]"
            ]
          },
          "metadata": {
            "tags": []
          },
          "execution_count": 27
        }
      ]
    },
    {
      "cell_type": "code",
      "metadata": {
        "id": "K9jY84jIDZx4",
        "colab": {
          "base_uri": "https://localhost:8080/",
          "height": 295
        },
        "outputId": "ecb15891-b707-4fc9-ab9b-c97e6b192794"
      },
      "source": [
        "#THe change of covarience between predicted and actual score with respect to the number of decision trees.\n",
        "covariance=plt.figure()\n",
        "plt.plot(iterations,r_scores, \"-r\") #label=\"Covarience between actual and predicted scores\")\n",
        "#plt.plot(iterations,successes, \"-b\")\n",
        "#plt.legend()\n",
        "plt.title(\"Covariance between testing scores and predicted scores vs Number of Decission Trees\")\n",
        "plt.xlabel(\"Number of Decision Trees\")\n",
        "plt.ylabel(\"Covariance\")\n",
        "plt.ylim(90,95)\n",
        "plt.show()\n",
        "covariance.savefig('covariance.png', dpi=1000)"
      ],
      "execution_count": 28,
      "outputs": [
        {
          "output_type": "display_data",
          "data": {
            "image/png": "[encoded data removed]",
            "text/plain": [
              "<Figure size 432x288 with 1 Axes>"
            ]
          },
          "metadata": {
            "tags": [],
            "needs_background": "light"
          }
        }
      ]
    },
    {
      "cell_type": "code",
      "metadata": {
        "id": "GQJy8ipaFANQ"
      },
      "source": [
        "columns=['Number of Overs','Number of Wickets','Runsatinstance','Batsman1 Score','Batsman2 Score','Current Pathnership']\n",
        "\n",
        "\n",
        "from sklearn.inspection import permutation_importance\n",
        "perm_importance = permutation_importance(model, x_test, y_test)\n",
        "featureimportance=plt.figure()\n",
        "sorted_idx = perm_importance.importances_mean.argsort()\n",
        "plt.barh(columns, perm_importance.importances_mean[sorted_idx])\n",
        "plt.xlabel(\"Feature Importance\")\n",
        "featureimportance.savefig('featureimportance.png', dpi=1000)\n"
      ],
      "execution_count": null,
      "outputs": []
    },
    {
      "cell_type": "code",
      "metadata": {
        "id": "GDguWFSvIxCv"
      },
      "source": [
        "\n",
        "featureimportance=plt.figure()\n",
        "\n",
        "importances = model.feature_importances_\n",
        "indices = np.argsort(importances)[::-1]\n",
        "names = [dframeprev.columns[i] for i in indices]\n",
        "\n",
        "\n",
        "\n",
        "plt.bar(range(x_train.shape[1]), importances[indices])\n",
        "# Add feature names as x-axis labels\n",
        "plt.xticks(range(x_train.shape[1]), names, rotation=20, fontsize = 8)\n",
        "# Create plot title\n",
        "plt.title(\"Feature Importances\")\n",
        "plt.xlabel(\"Feature Name\")\n",
        "plt.ylabel(\"Feature Importance\")\n",
        "# Show plot\n",
        "plt.show()\n",
        "featureimportance.savefig('featureimportance.png', dpi=1000)"
      ],
      "execution_count": null,
      "outputs": []
    },
    {
      "cell_type": "code",
      "metadata": {
        "id": "psNYTj_wN3_b"
      },
      "source": [
        ""
      ],
      "execution_count": null,
      "outputs": []
    }
  ]
}